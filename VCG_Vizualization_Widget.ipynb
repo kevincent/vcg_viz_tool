{
 "cells": [
  {
   "cell_type": "code",
   "execution_count": 1,
   "metadata": {},
   "outputs": [],
   "source": [
    "import numpy as np\n",
    "import pandas as pd\n",
    "import ipywidgets as widgets\n",
    "import matplotlib.pyplot as plt\n",
    "import seaborn as sns\n",
    "from mpl_toolkits.mplot3d import Axes3D\n",
    "from IPython.display import display, clear_output\n",
    "\n",
    "from data_parser import parse\n",
    "from data_modification import normalize_patient\n",
    "#from VCG_plot_widget import plot_vcg_data"
   ]
  },
  {
   "cell_type": "code",
   "execution_count": 2,
   "metadata": {},
   "outputs": [],
   "source": [
    "%matplotlib inline\n",
    "%config InlineBackend.figure_format = 'retina'\n",
    "#plt.rcParams.update({'font.size': 16})"
   ]
  },
  {
   "cell_type": "markdown",
   "metadata": {},
   "source": [
    "# VCG Vizualization To Do:\n",
    "### Basic plotting function\n",
    "* ~~Add planar projections~~\n",
    "* ~~Add labels to XYZ graphs and planar projections~~\n",
    "* ~~Add information about the patient id~~\n",
    "* ~~Display Simulation parameters for vcg_model~~\n",
    "\n",
    "### Advanced plotting function\n",
    "* ~~Separate model vcg compare and clinical~~\n",
    "* ~~Add clinical to figure~~\n",
    "* ~~Add normalization option~~\n",
    "* ~~fix parameter display strings~~\n",
    "* ~~Disable selections not available during clinical~~\n",
    "* ~~Add legend for compare_select~~\n",
    "* ~~Visual display for pacing locaiton~~\n",
    "* ~~Implement pacing location slider~~\n",
    "* ~~Handle missing VCG and missing eval_values~~\n",
    "* ~~Display simulation number~~\n",
    "* make sim slider and pacing node slider update for each patient\n",
    "* Add option to input sim number manually\n",
    "* fix axes across patient when set to norm\n",
    "* Try to add cylindrical border\n",
    "* make GUI a class and move out of script\n",
    "* Add error trapping for input data\n",
    "* more gracefully handle time input\n",
    "* Add arrows to 2D projections\n",
    "\n",
    "### database functionality\n",
    "* ~~Filter pacing by location~~\n",
    "* ~~Include proper simulation number with VCG data~~\n",
    "* ~~Add node form to database for each patient~~\n",
    "* Add node grid to database for each patient\n",
    "* Check VCG cont/kors rotation\n",
    "\n",
    "### Questions\n",
    "* Why use change['new'] instead of widget.value on observe?"
   ]
  },
  {
   "cell_type": "markdown",
   "metadata": {
    "collapsed": true
   },
   "source": [
    "# Load Data"
   ]
  },
  {
   "cell_type": "code",
   "execution_count": 3,
   "metadata": {
    "code_folding": []
   },
   "outputs": [],
   "source": [
    "#Parse data\n",
    "data_path = '/Users/kevin/Continuity/Simulations/MachineLearningPaper/LBBB_LVdyssync'\n",
    "patients = [\n",
    "        normalize_patient(\n",
    "            parse(initial_path=data_path, patient_number=patient_no) \n",
    "        )\n",
    "        #for patient_no in [0]\n",
    "        for patient_no in range(0,8)\n",
    "]"
   ]
  },
  {
   "cell_type": "markdown",
   "metadata": {},
   "source": [
    "# Plotting Function"
   ]
  },
  {
   "cell_type": "code",
   "execution_count": 26,
   "metadata": {},
   "outputs": [],
   "source": [
    "def plot_vcg_data(patient,param,pacing_node,clinical,norm_select,compare_select):\n",
    "    \"\"\"Generate a plot to display .\n",
    "    \"\"\" \n",
    "    # NEED TO ADD QUALITY CONTROL FOR INPUT\n",
    "    if norm_select:\n",
    "        norm = '_norm'\n",
    "    else:\n",
    "        norm = ''\n",
    "    if clinical:\n",
    "        data = patient['vcg_real'+norm]\n",
    "        fig.suptitle(patient['pt_id'] + ' Clinical VCG', fontsize=18,fontweight='bold')\n",
    "    else:\n",
    "        sim = patient['eval_values'][patient['eval_values']['pacing_nodes']==pacing_node].index[0]+param-1\n",
    "        data = patient['vcg_model'+norm][sim]\n",
    "        if not isinstance(data,pd.DataFrame):\n",
    "            data = pd.DataFrame(0,index=np.arange(3),columns=['VCGx','VCGy','VCGz'])\n",
    "        G = patient['eval_values']['cond'][sim]\n",
    "        RV = patient['eval_values']['R'][sim]\n",
    "        LV = patient['eval_values']['L'][sim]\n",
    "        fig.suptitle(patient['pt_id'] + ' Simulation %i'%(sim+1), fontsize=18,fontweight='bold')\n",
    "        p_txt.set_text('Pacing node\\n%i'%pacing_node)\n",
    "        g_txt.set_text('Conductivity\\n%.5f'%G)\n",
    "        rv_txt.set_text('RV endo ratio\\n%.1f'%RV)\n",
    "        lv_txt.set_text('LV endo ratio\\n%.1f'%LV)\n",
    "\n",
    "    ### Plot XYZ time series\n",
    "    #assume 1 ms per sample for now\n",
    "    t = np.arange(len(data['VCGx']))\n",
    "\n",
    "    ax1.clear()\n",
    "    ax1.plot(t,data['VCGx'],'k-')\n",
    "    ax1.set_title('X',x=0,y=0.8, fontsize=16)\n",
    "    ax1.axis('off')\n",
    "    \n",
    "    ax2.clear()\n",
    "    ax2.plot(t,data['VCGy'],'k-')\n",
    "    ax2.set_title('Y',x=0,y=0.8, fontsize=16)\n",
    "    ax2.axis('off')\n",
    "    \n",
    "    ax3.clear()\n",
    "    ax3.plot(t,data['VCGz'],'k-')\n",
    "    ax3.set_title('Z',x=0,y=0.8, fontsize=16)\n",
    "    ax3.axis('off')\n",
    "    \n",
    "    ax4.clear()\n",
    "    ax4.plot(t,np.linalg.norm(data,axis=1),'k-',label = 'Simulated VCG')\n",
    "    ax4.set_title('Mag.',x=-0.05,y=0.9,fontsize=16)\n",
    "    ax4.spines['right'].set_color('none')\n",
    "    ax4.spines['top'].set_color('none')\n",
    "    \n",
    "    ax5.clear()\n",
    "    ax5.plot(data['VCGx'],data['VCGz']*-1,'k-')\n",
    "    ax5.set_title('Transverse', fontsize=16)\n",
    "    ax5.axis('off')\n",
    "    ax5.axis('equal')\n",
    "    \n",
    "    ax6.clear()\n",
    "    ax6.plot(data['VCGx'],data['VCGy']*-1,'k-')\n",
    "    ax6.set_title('Frontal', fontsize=16)\n",
    "    ax6.axis('off')\n",
    "    ax6.axis('equal')\n",
    "    \n",
    "    ax7.clear()\n",
    "    ax7.plot(data['VCGz']*-1,data['VCGy']*-1,'k-')\n",
    "    ax7.set_title('Left Sagittal', fontsize=16)\n",
    "    ax7.axis('off')\n",
    "    ax7.axis('equal')\n",
    "    \n",
    "    ax8.clear()\n",
    "    ax8.axis('off')\n",
    "    if not clinical:\n",
    "        ax8.scatter(patient['eval_values']['z'],patient['eval_values']['x']*-1,facecolors='none', edgecolors='k')\n",
    "        ax8.scatter(patient['eval_values']['z'][sim],patient['eval_values']['x'][sim]*-1,c='k')\n",
    "        ax8.set_title('RVFW')\n",
    "    \n",
    "    if compare_select:\n",
    "        clin_data = patient['vcg_real_norm']\n",
    "        clin_t = np.arange(len(clin_data['VCGx']))\n",
    "        ax1.plot(clin_t,clin_data['VCGx'],'k--')\n",
    "        ax2.plot(clin_t,clin_data['VCGy'],'k--')\n",
    "        ax3.plot(clin_t,clin_data['VCGz'],'k--')\n",
    "        ax4.plot(clin_t,np.linalg.norm(clin_data,axis=1),'k--',label ='Clinical VCG')\n",
    "        ax5.plot(clin_data['VCGx'],clin_data['VCGz']*-1,'k--')\n",
    "        ax6.plot(clin_data['VCGx'],clin_data['VCGy']*-1,'k--')\n",
    "        ax7.plot(clin_data['VCGz']*-1,clin_data['VCGy']*-1,'k--')\n",
    "        #ax4.legend(prop={'size': 16},frameon=False,bbox_to_anchor=(0.6,0.6))\n",
    "    \n",
    "    with out:\n",
    "        clear_output(wait=True)\n",
    "        display(fig)"
   ]
  },
  {
   "cell_type": "code",
   "execution_count": 27,
   "metadata": {
    "code_folding": []
   },
   "outputs": [],
   "source": [
    "#build GUI\n",
    "id_dict = {}\n",
    "for x,patient in enumerate(patients):\n",
    "    id_dict[patient['pt_id']] = x   \n",
    "    \n",
    "pt_select = widgets.Dropdown(\n",
    "    options=id_dict,\n",
    "    value=0,\n",
    "    description='Patient ID:',\n",
    "    disabled=False,\n",
    ")\n",
    "\n",
    "type_select = widgets.RadioButtons(\n",
    "    #options=['Clinical VCG', 'Simulation VCG'],\n",
    "    options={'Simulation VCG':False,'Clinical VCG':True},\n",
    "     value=True,\n",
    "    description='',\n",
    "    disabled=False\n",
    ")\n",
    "\n",
    "pt_box = widgets.VBox()\n",
    "pt_box.children = [pt_select,type_select]\n",
    "\n",
    "norm_select = widgets.Checkbox(\n",
    "    value=False,\n",
    "    description='Normalize VCG',\n",
    "    disabled=False\n",
    ")\n",
    "center = widgets.Checkbox(\n",
    "    value=False,\n",
    "    description='Center VCG',\n",
    "    disabled=False\n",
    ")\n",
    "compare_select = widgets.Checkbox(\n",
    "    value=False,\n",
    "    description='Compare to clincical VCG',\n",
    "    disabled=True\n",
    ")\n",
    "opts_box = widgets.VBox()\n",
    "opts_box.children = [norm_select,center,compare_select]\n",
    "\n",
    "sim = widgets.IntSlider(\n",
    "    #Make max variable? patient['eval_values'][patient['eval_values']['pacing_nodes']==patients[0]['eval_values']['pacing_nodes'].unique()[0]]\n",
    "    min=1, max=16, step=1, \n",
    "    value=1,\n",
    "    description='Simulation:',\n",
    "    disabled = True,\n",
    "    continuous_update=False\n",
    ")\n",
    "\n",
    "pace_node = widgets.SelectionSlider(\n",
    "    options= patients[0]['eval_values']['pacing_nodes'].unique(),\n",
    "    value = patients[0]['eval_values']['pacing_nodes'].unique()[0],\n",
    "    description = 'Pacing Node:',\n",
    "    disabled = True,\n",
    "    continuous_update=False\n",
    "    )\n",
    "\n",
    "words = ['Superior', 'Inferior', 'Anterior', 'Posterior']\n",
    "items = [widgets.Button(description=w,disabled=True,button_style='info') for w in words]\n",
    "high_box = widgets.HBox([widgets.Label('fix this space problem.....'),items[0],widgets.Label('')])\n",
    "low_box = widgets.HBox([items[2],items[1],items[3]])\n",
    "nav_box = widgets.VBox([high_box, low_box])\n",
    "\n",
    "gui_box = widgets.VBox([widgets.HBox([pt_box,opts_box]),widgets.HBox([sim,pace_node]),nav_box])\n",
    "out = widgets.Output()\n",
    "all_box = widgets.VBox([out,gui_box])\n"
   ]
  },
  {
   "cell_type": "code",
   "execution_count": 28,
   "metadata": {
    "code_folding": []
   },
   "outputs": [
    {
     "data": {
      "application/vnd.jupyter.widget-view+json": {
       "model_id": "b9edb041c2d8437ba3a74b4482e87b03",
       "version_major": 2,
       "version_minor": 0
      },
      "text/html": [
       "<p>Failed to display Jupyter Widget of type <code>VBox</code>.</p>\n",
       "<p>\n",
       "  If you're reading this message in the Jupyter Notebook or JupyterLab Notebook, it may mean\n",
       "  that the widgets JavaScript is still loading. If this message persists, it\n",
       "  likely means that the widgets JavaScript library is either not installed or\n",
       "  not enabled. See the <a href=\"https://ipywidgets.readthedocs.io/en/stable/user_install.html\">Jupyter\n",
       "  Widgets Documentation</a> for setup instructions.\n",
       "</p>\n",
       "<p>\n",
       "  If you're reading this message in another frontend (for example, a static\n",
       "  rendering on GitHub or <a href=\"https://nbviewer.jupyter.org/\">NBViewer</a>),\n",
       "  it may mean that your frontend doesn't currently support widgets.\n",
       "</p>\n"
      ],
      "text/plain": [
       "VBox(children=(Output(), VBox(children=(HBox(children=(VBox(children=(Dropdown(description=u'Patient ID:', index=4, options={'BiV5': 4, 'BiV4': 3, 'BiV7': 6, 'BiV6': 5, 'BiV1': 0, 'BiV3': 2, 'BiV2': 1, 'BiV8': 7}, value=0), RadioButtons(options={'Clinical VCG': True, 'Simulation VCG': False}, value=True))), VBox(children=(Checkbox(value=False, description=u'Normalize VCG'), Checkbox(value=False, description=u'Center VCG'), Checkbox(value=False, description=u'Compare to clincical VCG', disabled=True))))), HBox(children=(IntSlider(value=1, continuous_update=False, description=u'Simulation:', disabled=True, max=16, min=1), SelectionSlider(continuous_update=False, description=u'Pacing Node:', disabled=True, options=(174, 175, 176, 177, 178, 179, 180, 181, 182, 214, 215, 216, 227, 230, 231, 240, 241, 242, 243, 244, 245, 246, 247, 248, 249, 250, 253, 254, 255, 261, 263, 265, 267, 268, 269, 276, 278, 280), value=174))), VBox(children=(HBox(children=(Label(value=u'fix this space problem.....'), Button(button_style=u'info', description=u'Superior', disabled=True, style=ButtonStyle()), Label(value=u''))), HBox(children=(Button(button_style=u'info', description=u'Anterior', disabled=True, style=ButtonStyle()), Button(button_style=u'info', description=u'Inferior', disabled=True, style=ButtonStyle()), Button(button_style=u'info', description=u'Posterior', disabled=True, style=ButtonStyle())))))))))"
      ]
     },
     "metadata": {},
     "output_type": "display_data"
    },
    {
     "name": "stdout",
     "output_type": "stream",
     "text": [
      "Superior\n",
      "Posterior\n",
      "Posterior\n",
      "Posterior\n",
      "Posterior\n",
      "Posterior\n",
      "Posterior\n",
      "Inferior\n",
      "Inferior\n",
      "Inferior\n",
      "Posterior\n",
      "Posterior\n",
      "Posterior\n"
     ]
    }
   ],
   "source": [
    "#plt.ioff()\n",
    "fig = plt.figure(figsize = (9,9))\n",
    "ax1 = plt.subplot2grid((12,12), (0,0), colspan=7,rowspan=2)\n",
    "ax2 = plt.subplot2grid((12,12), (2,0), colspan=7,rowspan=2)\n",
    "ax3 = plt.subplot2grid((12,12), (4,0), colspan=7,rowspan=2)\n",
    "ax4 = plt.subplot2grid((12,12), (6,0), colspan=7,rowspan=2)\n",
    "ax5 = plt.subplot2grid((12,12), (0,8), colspan=4,rowspan=4)\n",
    "ax6 = plt.subplot2grid((12,12), (4,8), colspan=4,rowspan=4)\n",
    "ax7 = plt.subplot2grid((12,12), (8,8), colspan=4,rowspan=4)\n",
    "ax8 = plt.subplot2grid((12,12), (9,2), colspan=4,rowspan=3)\n",
    "#ax = [ax1,ax2,ax3,ax4,ax5,ax6,ax7]\n",
    "p_txt = fig.text(0.2,0,'', fontsize = 16, ha='center')\n",
    "g_txt = fig.text(0.4,0,'', fontsize = 16, ha='center')\n",
    "rv_txt = fig.text(0.6,0,'',fontsize = 16, ha='center')\n",
    "lv_txt = fig.text(0.8,0,'',fontsize = 16, ha='center')\n",
    "plt.close(fig)\n",
    "\n",
    "with out:\n",
    "    plot_vcg_data(patients[0],1,patients[0]['eval_values']['pacing_nodes'].unique()[0],True,False,False)\n",
    "    #patient,sim,pacing_node,clinical,norm_select,compare_select):\n",
    "    \n",
    "def update_plot(*args):\n",
    "    plot_vcg_data(patients[pt_select.value],sim.value,pace_node.value,type_select.value,norm_select.value,compare_select.value)\n",
    "\n",
    "def on_type_select(change):\n",
    "    if change['new']:\n",
    "        sim.disabled = True\n",
    "        pace_node.disabled = True\n",
    "        compare_select.value = False\n",
    "        compare_select.disabled = True\n",
    "        for item in items:\n",
    "            item.disabled= True\n",
    "    else:\n",
    "        sim.disabled = False\n",
    "        pace_node.disabled = False\n",
    "        compare_select.disabled = False\n",
    "        for item in items:\n",
    "            item.disabled= False\n",
    "    update_plot()\n",
    "    \n",
    "def on_compare_select(change):\n",
    "    if change['new']:\n",
    "        if norm_select.value == True:\n",
    "            norm_select.disabled = True\n",
    "            update_plot()\n",
    "        else: \n",
    "            norm_select.value = True\n",
    "            norm_select.disabled = True\n",
    "            on_norm_select({'new':True})\n",
    "    else:\n",
    "        norm_select.disabled = False\n",
    "        \n",
    "def on_norm_select(change):\n",
    "    if 'vcg_real_norm' not in patients[pt_select.value]:\n",
    "        print \"Run normalization with data parser\"\n",
    "        norm_select.value = False\n",
    "        norm_select.disabled = True\n",
    "    else:\n",
    "        update_plot()\n",
    "\n",
    "def on_button_clicked(b):\n",
    "    cur_grid = np.argwhere(node_grid==pace_node.value)\n",
    "    try:\n",
    "        if b.description == 'Superior':\n",
    "            pace_node.value = node_grid[cur_grid[0][0]-1,cur_grid[0][1]]\n",
    "        elif b.description == 'Inferior':\n",
    "            pace_node.value = node_grid[cur_grid[0][0]+1,cur_grid[0][1]]\n",
    "        elif b.description == 'Anterior':\n",
    "            pace_node.value = node_grid[cur_grid[0][0],cur_grid[0][1]-1]\n",
    "        elif b.description == 'Posterior':\n",
    "            pace_node.value = node_grid[cur_grid[0][0],cur_grid[0][1]+1]\n",
    "        update_plot()\n",
    "    except:\n",
    "        print 'out of bounds - skipping'\n",
    "\n",
    "def on_pace_node(change):\n",
    "    update_plot()\n",
    "\n",
    "display(all_box)    \n",
    "\n",
    "items[0].on_click(on_button_clicked)\n",
    "items[1].on_click(on_button_clicked)\n",
    "items[2].on_click(on_button_clicked)\n",
    "items[3].on_click(on_button_clicked)\n",
    "\n",
    "compare_select.observe(on_compare_select,names='value')\n",
    "norm_select.observe(on_norm_select,names='value')\n",
    "type_select.observe(on_type_select,names='value')\n",
    "pt_select.observe(update_plot,names='value')\n",
    "pace_node.observe(on_pace_node,names='value')\n",
    "sim.observe(update_plot,names='value')"
   ]
  },
  {
   "cell_type": "code",
   "execution_count": 7,
   "metadata": {},
   "outputs": [
    {
     "name": "stdout",
     "output_type": "stream",
     "text": [
      "[[244 178 253 180 267 182 246]\n",
      " [247 214 261 215 276 216 248]\n",
      " [243 177 254 179 268 181 245]\n",
      " [249 230 263 231 278 227 250]\n",
      " [242 174 255 175 269 176 241]\n",
      " [242 174 265 240 280 176 246]]\n"
     ]
    }
   ],
   "source": [
    "fin = '/Users/kevin/Documents/CMRG/CAI/MachineLearningPaper/SensitivityAnalysis/RV_only/node_map.txt'\n",
    "node_grid = np.genfromtxt(fin,dtype=np.int)\n",
    "print node_grid"
   ]
  },
  {
   "cell_type": "code",
   "execution_count": 8,
   "metadata": {},
   "outputs": [
    {
     "name": "stdout",
     "output_type": "stream",
     "text": [
      "174\n"
     ]
    }
   ],
   "source": [
    "node = 178\n",
    "curr_grid = np.argwhere(node_grid==node)\n",
    "b = 'Superior'\n",
    "#try:\n",
    "print node_grid[curr_grid[0][0]-1,curr_grid[0][1]]\n",
    "#except:\n",
    "#    print 'Here'"
   ]
  },
  {
   "cell_type": "code",
   "execution_count": 9,
   "metadata": {},
   "outputs": [
    {
     "data": {
      "text/plain": [
       "-2"
      ]
     },
     "execution_count": 9,
     "metadata": {},
     "output_type": "execute_result"
    }
   ],
   "source": [
    "curr_grid[0][0]-2"
   ]
  },
  {
   "cell_type": "code",
   "execution_count": 10,
   "metadata": {},
   "outputs": [
    {
     "data": {
      "image/png": "[encoded data removed]",
      "text/plain": [
       "<matplotlib.figure.Figure at 0x1a0ee9c990>"
      ]
     },
     "metadata": {
      "image/png": {
       "height": 250,
       "width": 388
      }
     },
     "output_type": "display_data"
    }
   ],
   "source": [
    "#https://stackoverflow.com/questions/34017866/arrow-on-a-line-plot-with-matplotlib\n",
    "def add_arrow(line, position=None, direction='right', size=15, color=None):\n",
    "    \"\"\"\n",
    "    add an arrow to a line.\n",
    "\n",
    "    line:       Line2D object\n",
    "    position:   x-position of the arrow. If None, mean of xdata is taken\n",
    "    direction:  'left' or 'right'\n",
    "    size:       size of the arrow in fontsize points\n",
    "    color:      if None, line color is taken.\n",
    "    \"\"\"\n",
    "    if color is None:\n",
    "        color = line.get_color()\n",
    "\n",
    "    xdata = line.get_xdata()\n",
    "    ydata = line.get_ydata()\n",
    "\n",
    "    if position is None:\n",
    "        position = xdata.mean()\n",
    "    # find closest index\n",
    "    start_ind = np.argmin(np.absolute(xdata - position))\n",
    "    if direction == 'right':\n",
    "        end_ind = start_ind + 1\n",
    "    else:\n",
    "        end_ind = start_ind - 1\n",
    "\n",
    "    line.axes.annotate('',\n",
    "        xytext=(xdata[start_ind], ydata[start_ind]),\n",
    "        xy=(xdata[end_ind], ydata[end_ind]),\n",
    "        arrowprops=dict(arrowstyle=\"->\", color=color),\n",
    "        size=size\n",
    "    )\n",
    "\n",
    "\n",
    "t = np.linspace(-2, 2, 100)\n",
    "y = np.sin(t)\n",
    "# return the handle of the line\n",
    "line = plt.plot(t, y)[0]\n",
    "\n",
    "add_arrow(line)\n",
    "\n",
    "plt.show()"
   ]
  }
 ],
 "metadata": {
  "kernelspec": {
   "display_name": "Python 2",
   "language": "python",
   "name": "python2"
  },
  "language_info": {
   "codemirror_mode": {
    "name": "ipython",
    "version": 2
   },
   "file_extension": ".py",
   "mimetype": "text/x-python",
   "name": "python",
   "nbconvert_exporter": "python",
   "pygments_lexer": "ipython2",
   "version": "2.7.14"
  }
 },
 "nbformat": 4,
 "nbformat_minor": 2
}
